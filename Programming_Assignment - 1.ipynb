{
 "cells": [
  {
   "cell_type": "markdown",
   "id": "e1bcef86",
   "metadata": {},
   "source": [
    "1. Write a Python program to print \"Hello Python\"?"
   ]
  },
  {
   "cell_type": "code",
   "execution_count": 1,
   "id": "4cc1e79a",
   "metadata": {},
   "outputs": [
    {
     "name": "stdout",
     "output_type": "stream",
     "text": [
      "Hello Python\n"
     ]
    }
   ],
   "source": [
    "print (\"Hello Python\")"
   ]
  },
  {
   "cell_type": "markdown",
   "id": "d5f9663d",
   "metadata": {},
   "source": [
    "2. Write a Python program to do arithmetical operations addition and division.?"
   ]
  },
  {
   "cell_type": "code",
   "execution_count": 2,
   "id": "1501c73a",
   "metadata": {},
   "outputs": [
    {
     "name": "stdout",
     "output_type": "stream",
     "text": [
      "Enter first number: 56\n",
      "Enter second number: 43\n",
      "99\n",
      "1.302325581395349\n"
     ]
    }
   ],
   "source": [
    "num1 = input('Enter first number: ')  \n",
    "num2 = input('Enter second number: ')  \n",
    "\n",
    "#Addition\n",
    "sum = int(num1) + int(num2)\n",
    "print(sum)\n",
    "\n",
    "#Division\n",
    "Div = int(num1) / int(num2)\n",
    "print(Div)"
   ]
  },
  {
   "cell_type": "markdown",
   "id": "ef9c1952",
   "metadata": {},
   "source": [
    "3. Write a Python program to find the area of a triangle?"
   ]
  },
  {
   "cell_type": "code",
   "execution_count": 6,
   "id": "50c9629e",
   "metadata": {},
   "outputs": [
    {
     "name": "stdout",
     "output_type": "stream",
     "text": [
      "Enter the base of the triangle:4\n",
      "Enter the height of the triangle:6\n",
      "12.0\n"
     ]
    }
   ],
   "source": [
    "b = int(input(\"Enter the base of the triangle:\"))\n",
    "h = int(input(\"Enter the height of the triangle:\"))\n",
    "\n",
    "Area = b*h/2\n",
    "print(Area)"
   ]
  },
  {
   "cell_type": "markdown",
   "id": "53f545d2",
   "metadata": {},
   "source": [
    "4. Write a Python program to swap two variables?"
   ]
  },
  {
   "cell_type": "code",
   "execution_count": 4,
   "id": "b779f658",
   "metadata": {},
   "outputs": [
    {
     "name": "stdout",
     "output_type": "stream",
     "text": [
      "The value of x after swapping: 10\n",
      "The value of y after swapping: 5\n"
     ]
    }
   ],
   "source": [
    "x = 5\n",
    "y = 10\n",
    "\n",
    "# create a temporary variable and swap the values\n",
    "temp = x\n",
    "x = y\n",
    "y = temp\n",
    "\n",
    "print('The value of x after swapping: {}'.format(x))\n",
    "print('The value of y after swapping: {}'.format(y))"
   ]
  },
  {
   "cell_type": "markdown",
   "id": "e9f4ec61",
   "metadata": {},
   "source": [
    "5. Write a Python program to generate a random number?"
   ]
  },
  {
   "cell_type": "code",
   "execution_count": 5,
   "id": "e1839f4a",
   "metadata": {},
   "outputs": [
    {
     "name": "stdout",
     "output_type": "stream",
     "text": [
      "1\n"
     ]
    }
   ],
   "source": [
    "import random\n",
    "\n",
    "print(random.randint(0,9))"
   ]
  }
 ],
 "metadata": {
  "kernelspec": {
   "display_name": "Python 3 (ipykernel)",
   "language": "python",
   "name": "python3"
  },
  "language_info": {
   "codemirror_mode": {
    "name": "ipython",
    "version": 3
   },
   "file_extension": ".py",
   "mimetype": "text/x-python",
   "name": "python",
   "nbconvert_exporter": "python",
   "pygments_lexer": "ipython3",
   "version": "3.9.13"
  }
 },
 "nbformat": 4,
 "nbformat_minor": 5
}
